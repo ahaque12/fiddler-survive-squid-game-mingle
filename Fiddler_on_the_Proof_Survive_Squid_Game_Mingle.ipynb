{
  "nbformat": 4,
  "nbformat_minor": 0,
  "metadata": {
    "colab": {
      "provenance": [],
      "authorship_tag": "ABX9TyMTTBolrRFiPUMjqSwgamCJ",
      "include_colab_link": true
    },
    "kernelspec": {
      "name": "python3",
      "display_name": "Python 3"
    },
    "language_info": {
      "name": "python"
    }
  },
  "cells": [
    {
      "cell_type": "markdown",
      "metadata": {
        "id": "view-in-github",
        "colab_type": "text"
      },
      "source": [
        "<a href=\"https://colab.research.google.com/github/ahaque12/fiddler-survive-squid-game-mingle/blob/main/Fiddler_on_the_Proof_Survive_Squid_Game_Mingle.ipynb\" target=\"_parent\"><img src=\"https://colab.research.google.com/assets/colab-badge.svg\" alt=\"Open In Colab\"/></a>"
      ]
    },
    {
      "cell_type": "code",
      "execution_count": 1,
      "metadata": {
        "id": "KXbRcqqStWUe"
      },
      "outputs": [],
      "source": [
        "import numpy as np\n",
        "import matplotlib.pyplot as plt"
      ]
    },
    {
      "cell_type": "markdown",
      "source": [
        "https://substack.com/home/post/p-154508931?source=queue&autoPlay=false\n",
        "In Season 2 of Squid Game, contestants play a game of “Mingle” (spoiler alert!). For each round of this game, the contestants all wait in a common area until a number is called. They must then split up into groups of that number. Any contestants not in a group of the correct number after 30 seconds … well, let’s just say bad things happen to them. For now, we’ll refer to contestants who make it through a round in a group of the correct size as having “survived” the round.\n",
        "\n",
        "Suppose there are initially N contestants.\n",
        "\n",
        "In the first round, contestants must form groups of 1. Okay, that’s not too hard; everyone survives. In the second round, contestants must form groups of 2. This continues (with groups of k in round k) until the 38th round, when contestants must form groups of 38.\n",
        "\n",
        "What is the smallest number N such that there is at least one person who survives all 38 rounds?\n",
        "\n",
        "# Approach\n",
        "We need one person to survive all 38 rounds. If there were 38 people left in round 37 then none of the 38 would not survive because 37 would make a group in the 37th round eliminating one person, and then 37 wouldn't be able to make a group. Therefore the minimum size of the group is 2*37 = 74. We can continue working backwards, let $S_k$ represent the number of people needed at the start of round $k$. Then\n",
        "$$\n",
        "S_k >= max(\\lceil \\frac{S_{k+1}}{k} \\rceil *k, S_{k+1})\n",
        "$$\n",
        "\n",
        "If $S_{38} = 38$ then we get $S_1 = 454$."
      ],
      "metadata": {
        "id": "f6HbpU3BtcWu"
      }
    },
    {
      "cell_type": "code",
      "source": [
        "def curr(s, k):\n",
        "  a = s // k\n",
        "  b = s % k\n",
        "  if b != 0:\n",
        "    a += 1\n",
        "  return max(a*k, s)\n",
        "\n",
        "curr(38, 37)"
      ],
      "metadata": {
        "colab": {
          "base_uri": "https://localhost:8080/"
        },
        "id": "0PO84flLtavP",
        "outputId": "204d4572-0a3f-46cb-e486-b40b6d2f9431"
      },
      "execution_count": 2,
      "outputs": [
        {
          "output_type": "execute_result",
          "data": {
            "text/plain": [
              "74"
            ]
          },
          "metadata": {},
          "execution_count": 2
        }
      ]
    },
    {
      "cell_type": "code",
      "source": [
        "def squid(k):\n",
        "  s = k\n",
        "  k -= 1\n",
        "  while k >= 1:\n",
        "    s = curr(s,k)\n",
        "    k -= 1\n",
        "  return s\n",
        "\n",
        "squid(3)"
      ],
      "metadata": {
        "colab": {
          "base_uri": "https://localhost:8080/"
        },
        "id": "cK2Mxj2Rt9co",
        "outputId": "ec0679c6-460d-4bd8-b424-e1741aa1c8ec"
      },
      "execution_count": 3,
      "outputs": [
        {
          "output_type": "execute_result",
          "data": {
            "text/plain": [
              "4"
            ]
          },
          "metadata": {},
          "execution_count": 3
        }
      ]
    },
    {
      "cell_type": "code",
      "source": [
        "squid(38)"
      ],
      "metadata": {
        "colab": {
          "base_uri": "https://localhost:8080/"
        },
        "id": "rMtCxICXunHz",
        "outputId": "2c350da1-24a6-4af9-80b4-a9e392a3a5e3"
      },
      "execution_count": 4,
      "outputs": [
        {
          "output_type": "execute_result",
          "data": {
            "text/plain": [
              "454"
            ]
          },
          "metadata": {},
          "execution_count": 4
        }
      ]
    },
    {
      "cell_type": "markdown",
      "source": [
        "# Extra Credit"
      ],
      "metadata": {
        "id": "Eq1CHJGIowF0"
      }
    },
    {
      "cell_type": "markdown",
      "source": [
        "There are N contestants about to play Mingle, where N is less than 500. This time, in each round, the number for group size can be anywhere from 1 to 10, with each number equally likely to be called. Also, the numbers called in the rounds are all independent of each other. It appears this version of Mingle will continue until there are no more survivors.\n",
        "\n",
        "Before the game starts, one of the contestants, Young-il, does some quick computation. He says to his companion, Gi-hun: “Oh no, it’s too bad we only have N people.” (Of course, Young-il doesn’t actually say “N,” but rather the number that N represents.)\n",
        "\n",
        "Young-il continues: “If we had started with N+1 people instead, I’d expect the game to last about 10 more rounds, on average.”\n",
        "\n",
        "What is the value of N?\n",
        "\n",
        "# Approach\n",
        "\n",
        "Let $f(n)$ be the number of expected rounds played until there are no more survivors starting with $n$ people. Then\n",
        "\n",
        "$$\n",
        "f(n) = 1 + \\frac{1}{10} \\sum_{i=1}^{10} f(i*\\lfloor \\frac{n}{i} \\rfloor)\n",
        "$$\n",
        "\n",
        "You can simplify this further to make it easy to compute. Let $x$ be the number of times the $n \\mod i = 0$ and $y$ be the sum of $f(i*\\lfloor \\frac{n}{i} \\rfloor)$ over $i$ where $n \\mod i \\neq 0$ then\n",
        "\n",
        "$$\n",
        "f(n) = \\frac{y + 10}{10-x}\n",
        "$$"
      ],
      "metadata": {
        "id": "eeHEit8sxjO4"
      }
    },
    {
      "cell_type": "code",
      "source": [
        "import functools\n",
        "import sympy"
      ],
      "metadata": {
        "id": "2x7OP6-RfAIN"
      },
      "execution_count": 5,
      "outputs": []
    },
    {
      "cell_type": "code",
      "source": [
        "@functools.lru_cache(maxsize=2**20)\n",
        "def exp_rounds(n):\n",
        "  if n <= 0:\n",
        "    return 0\n",
        "\n",
        "  total = 0\n",
        "  tk = 0\n",
        "  for i in range(1, 11):\n",
        "    m = n % i\n",
        "\n",
        "    if m == 0:\n",
        "      tk += 1\n",
        "    else:\n",
        "      total += exp_rounds(n-m)\n",
        "\n",
        "  total = sympy.Rational(total + 10, (10-tk))\n",
        "  return total\n",
        "\n",
        "exp_rounds(1)"
      ],
      "metadata": {
        "colab": {
          "base_uri": "https://localhost:8080/",
          "height": 51
        },
        "id": "DW8FItNgu3C7",
        "outputId": "8ffe9634-ada2-40ca-8e5f-ae52e2d0a6e9"
      },
      "execution_count": 6,
      "outputs": [
        {
          "output_type": "execute_result",
          "data": {
            "text/plain": [
              "10/9"
            ],
            "text/latex": "$\\displaystyle \\frac{10}{9}$"
          },
          "metadata": {},
          "execution_count": 6
        }
      ]
    },
    {
      "cell_type": "code",
      "source": [
        "exp_rounds(2)"
      ],
      "metadata": {
        "colab": {
          "base_uri": "https://localhost:8080/",
          "height": 51
        },
        "id": "SfkD9v7GfUl1",
        "outputId": "5c2b807b-2b97-4f72-dab2-5487a556567f"
      },
      "execution_count": 7,
      "outputs": [
        {
          "output_type": "execute_result",
          "data": {
            "text/plain": [
              "5/4"
            ],
            "text/latex": "$\\displaystyle \\frac{5}{4}$"
          },
          "metadata": {},
          "execution_count": 7
        }
      ]
    },
    {
      "cell_type": "code",
      "source": [
        "results = np.array([exp_rounds(i) for i in range(1, 500)])\n",
        "len(results)"
      ],
      "metadata": {
        "colab": {
          "base_uri": "https://localhost:8080/"
        },
        "id": "51aEIMQVjsU-",
        "outputId": "7fbba7c0-26e5-4a85-ce45-e686695356ea"
      },
      "execution_count": 8,
      "outputs": [
        {
          "output_type": "execute_result",
          "data": {
            "text/plain": [
              "499"
            ]
          },
          "metadata": {},
          "execution_count": 8
        }
      ]
    },
    {
      "cell_type": "code",
      "source": [
        "plt.bar(range(1, len(results) + 1), results)"
      ],
      "metadata": {
        "colab": {
          "base_uri": "https://localhost:8080/",
          "height": 447
        },
        "id": "WHuvLAUklF7t",
        "outputId": "5bdebebf-2cb6-4bf1-f81a-9283131d0dfe"
      },
      "execution_count": 9,
      "outputs": [
        {
          "output_type": "execute_result",
          "data": {
            "text/plain": [
              "<BarContainer object of 499 artists>"
            ]
          },
          "metadata": {},
          "execution_count": 9
        },
        {
          "output_type": "display_data",
          "data": {
            "text/plain": [
              "<Figure size 640x480 with 1 Axes>"
            ],
            "image/png": "[encoded data removed]"
          },
          "metadata": {}
        }
      ]
    },
    {
      "cell_type": "code",
      "source": [
        "plt.plot(results[1:] - results[:-1])\n",
        "plt.title(\"Difference in how long the game lasts with consecutive number of people\");"
      ],
      "metadata": {
        "colab": {
          "base_uri": "https://localhost:8080/",
          "height": 452
        },
        "id": "5S_gqEoamzoH",
        "outputId": "bc09388c-d644-43b6-df25-b2e002cf5217"
      },
      "execution_count": 17,
      "outputs": [
        {
          "output_type": "display_data",
          "data": {
            "text/plain": [
              "<Figure size 640x480 with 1 Axes>"
            ],
            "image/png": "[encoded data removed]"
          },
          "metadata": {}
        }
      ]
    },
    {
      "cell_type": "code",
      "source": [
        "np.where(results[1:] - results[:-1] > 8)"
      ],
      "metadata": {
        "colab": {
          "base_uri": "https://localhost:8080/"
        },
        "id": "ct5BqLifn5F4",
        "outputId": "eab0df8d-64c5-4fa5-c962-61f01fcfe1d6"
      },
      "execution_count": 11,
      "outputs": [
        {
          "output_type": "execute_result",
          "data": {
            "text/plain": [
              "(array([358]),)"
            ]
          },
          "metadata": {},
          "execution_count": 11
        }
      ]
    },
    {
      "cell_type": "code",
      "source": [
        "N = 359\n",
        "float(exp_rounds(N+1) - exp_rounds(N))"
      ],
      "metadata": {
        "colab": {
          "base_uri": "https://localhost:8080/"
        },
        "id": "3P813R85ofqx",
        "outputId": "80b3c11b-bdc1-40cc-99ed-656ba71f30fc"
      },
      "execution_count": 12,
      "outputs": [
        {
          "output_type": "execute_result",
          "data": {
            "text/plain": [
              "9.941231997336596"
            ]
          },
          "metadata": {},
          "execution_count": 12
        }
      ]
    },
    {
      "cell_type": "markdown",
      "source": [
        "# Verify results"
      ],
      "metadata": {
        "id": "vflIfjs02f6U"
      }
    },
    {
      "cell_type": "code",
      "source": [
        "def game(n):\n",
        "  if n <= 0:\n",
        "    return 0\n",
        "  i = np.random.randint(1, 11)\n",
        "  return 1 + game(n - (n % i))\n",
        "\n",
        "game(10)"
      ],
      "metadata": {
        "colab": {
          "base_uri": "https://localhost:8080/"
        },
        "id": "th52rBc81Vq9",
        "outputId": "f8114178-4903-4d42-da26-159425ba5071"
      },
      "execution_count": 13,
      "outputs": [
        {
          "output_type": "execute_result",
          "data": {
            "text/plain": [
              "4"
            ]
          },
          "metadata": {},
          "execution_count": 13
        }
      ]
    },
    {
      "cell_type": "code",
      "source": [
        "def simulate(n, nsim=1000):\n",
        "  total = 0\n",
        "  for _ in range(nsim):\n",
        "    total += game(n)\n",
        "\n",
        "  return total / nsim\n",
        "\n",
        "simulate(10)"
      ],
      "metadata": {
        "colab": {
          "base_uri": "https://localhost:8080/"
        },
        "id": "x7e_TrQU1s8G",
        "outputId": "ab8982a7-23e0-4460-c965-4bb367e036f2"
      },
      "execution_count": 14,
      "outputs": [
        {
          "output_type": "execute_result",
          "data": {
            "text/plain": [
              "4.783"
            ]
          },
          "metadata": {},
          "execution_count": 14
        }
      ]
    },
    {
      "cell_type": "code",
      "source": [
        "simulate(360) - simulate (359)"
      ],
      "metadata": {
        "colab": {
          "base_uri": "https://localhost:8080/"
        },
        "id": "l_8ZYqfV2KmL",
        "outputId": "856ca41a-441f-4925-b5a5-58a42c337b44"
      },
      "execution_count": 15,
      "outputs": [
        {
          "output_type": "execute_result",
          "data": {
            "text/plain": [
              "10.84299999999999"
            ]
          },
          "metadata": {},
          "execution_count": 15
        }
      ]
    }
  ]
}